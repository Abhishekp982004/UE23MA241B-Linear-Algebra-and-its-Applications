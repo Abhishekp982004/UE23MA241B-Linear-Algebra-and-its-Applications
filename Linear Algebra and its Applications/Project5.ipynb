{
 "cells": [
  {
   "cell_type": "code",
   "execution_count": 1,
   "id": "5d40febd-8680-4060-b49c-95aa983324a9",
   "metadata": {},
   "outputs": [
    {
     "name": "stdout",
     "output_type": "stream",
     "text": [
      "Rankings:\n",
      "1. Team8: 1.09\n",
      "2. Team7: 0.99\n",
      "3. Team1: 0.98\n",
      "4. Team2: 0.88\n",
      "5. Team9: 0.88\n",
      "6. Team3: 0.87\n",
      "7. Team4: 0.85\n",
      "8. Team6: 0.76\n",
      "9. Team10: 0.69\n",
      "10. Team5: 0.66\n"
     ]
    }
   ],
   "source": [
    "import numpy as np\n",
    "\n",
    "def forward_elimination(A, b):\n",
    "    n = len(b)\n",
    "    for i in range(n):\n",
    "        max_row = i + np.argmax(abs(A[i:, i]))\n",
    "        A[[i, max_row]] = A[[max_row, i]]\n",
    "        b[i], b[max_row] = b[max_row], b[i]\n",
    "        \n",
    "        for j in range(i+1, n):\n",
    "            factor = A[j, i] / A[i, i]\n",
    "            A[j, i:] -= factor * A[i, i:]\n",
    "            b[j] -= factor * b[i]\n",
    "    return A, b\n",
    "\n",
    "def back_substitution(A, b):\n",
    "    n = len(b)\n",
    "    x = np.zeros(n)\n",
    "    for i in range(n-1, -1, -1):\n",
    "        x[i] = (b[i] - np.dot(A[i, i+1:], x[i+1:])) / A[i, i]\n",
    "    return x\n",
    "\n",
    "def gaussian_elimination(A, b):\n",
    "    A, b = forward_elimination(A, b)\n",
    "    return back_substitution(A, b)\n",
    "\n",
    "# Example system representing 10 teams\n",
    "A = np.array([\n",
    "    [10, -1, -1, 0, 0, 0, 0, 0, 0, 0],\n",
    "    [-1, 10, -1, 0, 0, 0, 0, 0, 0, 0],\n",
    "    [-1, -1, 10, -1, 0, 0, 0, 0, 0, 0],\n",
    "    [0, 0, -1, 10, -1, 0, 0, 0, 0, 0],\n",
    "    [0, 0, 0, -1, 10, -1, 0, 0, 0, 0],\n",
    "    [0, 0, 0, 0, -1, 10, -1, 0, 0, 0],\n",
    "    [0, 0, 0, 0, 0, -1, 10, -1, 0, 0],\n",
    "    [0, 0, 0, 0, 0, 0, -1, 10, -1, 0],\n",
    "    [0, 0, 0, 0, 0, 0, 0, -1, 10, -1],\n",
    "    [0, 0, 0, 0, 0, 0, 0, 0, -1, 10]\n",
    "], dtype=float)\n",
    "\n",
    "b = np.array([8, 7, 6, 7, 5, 6, 8, 9, 7, 6], dtype=float)\n",
    "\n",
    "rankings = gaussian_elimination(A, b)\n",
    "\n",
    "teams = [\"Team1\", \"Team2\", \"Team3\", \"Team4\", \"Team5\", \"Team6\", \"Team7\", \"Team8\", \"Team9\", \"Team10\"]\n",
    "sorted_teams = sorted(zip(teams, rankings), key=lambda x: x[1], reverse=True)\n",
    "\n",
    "print(\"Rankings:\")\n",
    "for rank, (team, score) in enumerate(sorted_teams, 1):\n",
    "    print(f\"{rank}. {team}: {score:.2f}\")\n"
   ]
  },
  {
   "cell_type": "code",
   "execution_count": null,
   "id": "3a1fe077-4405-4ea5-a79e-a4a63c75f127",
   "metadata": {},
   "outputs": [],
   "source": []
  }
 ],
 "metadata": {
  "kernelspec": {
   "display_name": "Python 3 (ipykernel)",
   "language": "python",
   "name": "python3"
  },
  "language_info": {
   "codemirror_mode": {
    "name": "ipython",
    "version": 3
   },
   "file_extension": ".py",
   "mimetype": "text/x-python",
   "name": "python",
   "nbconvert_exporter": "python",
   "pygments_lexer": "ipython3",
   "version": "3.12.6"
  }
 },
 "nbformat": 4,
 "nbformat_minor": 5
}
